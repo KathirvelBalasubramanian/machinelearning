{
 "cells": [
  {
   "cell_type": "code",
   "execution_count": 4,
   "metadata": {},
   "outputs": [
    {
     "name": "stdout",
     "output_type": "stream",
     "text": [
      "side= 12\n",
      "Area formula: side*side\n",
      "Area of square:  144\n",
      "Perimeter formula: 4*side\n",
      "Perimeter of square:  48\n"
     ]
    }
   ],
   "source": [
    "def square():\n",
    "    a=int(input('side= '))\n",
    "    print('Area formula: side*side')\n",
    "    print('Area of square: ',a*a)\n",
    "    print('Perimeter formula: 4*side')\n",
    "    print('Perimeter of square: ',4*a)\n",
    "    \n",
    "square()"
   ]
  },
  {
   "cell_type": "code",
   "execution_count": 5,
   "metadata": {
    "scrolled": true
   },
   "outputs": [
    {
     "name": "stdout",
     "output_type": "stream",
     "text": [
      "Weight: 15\n",
      "input:5\n",
      "Bias Value is: 1\n",
      "Formula: Output=Weight*Input+Bias value\n",
      "Simple Linear: 76\n"
     ]
    }
   ],
   "source": [
    "def linear():\n",
    "    w=15\n",
    "    b=1\n",
    "    print('Weight:',w)\n",
    "    i=int(input('input:'))\n",
    "    print('Bias Value is:',b)\n",
    "    print('Formula: Output=Weight*Input+Bias value')\n",
    "    print('Simple Linear:',w*i+b)\n",
    "    \n",
    "linear()"
   ]
  },
  {
   "cell_type": "code",
   "execution_count": 8,
   "metadata": {},
   "outputs": [
    {
     "name": "stdout",
     "output_type": "stream",
     "text": [
      "Birth Year:1987\n",
      "Present Year: 2022\n",
      "Formula:PresentYear-BirthYear\n",
      "Present Age: 35\n"
     ]
    }
   ],
   "source": [
    "import datetime\n",
    "def age():\n",
    "    x=datetime.datetime.now()\n",
    "    n=x.year\n",
    "    y=int(input('Birth Year:'))\n",
    "    print('Present Year:',n)\n",
    "    print('Formula:PresentYear-BirthYear')\n",
    "    print('Present Age:',n-y)\n",
    "age()"
   ]
  },
  {
   "cell_type": "code",
   "execution_count": 10,
   "metadata": {},
   "outputs": [
    {
     "name": "stdout",
     "output_type": "stream",
     "text": [
      "Course List:\n",
      "Python\n",
      "Machine Learning\n",
      "Data Science\n",
      "Deep Learning\n",
      "NLP\n",
      "Time Series Analysis\n"
     ]
    }
   ],
   "source": [
    "class courses():\n",
    "    def courselist():\n",
    "        courses=['Python','Machine Learning','Data Science','Deep Learning','NLP','Time Series Analysis']\n",
    "        print('Course List:')\n",
    "        for i in courses:\n",
    "            print(i)\n",
    "            \n",
    "courses.courselist()"
   ]
  },
  {
   "cell_type": "code",
   "execution_count": 17,
   "metadata": {},
   "outputs": [
    {
     "name": "stdout",
     "output_type": "stream",
     "text": [
      "Length: 12\n",
      "Breath: 8\n",
      "Area formula: Length*Breath\n",
      "Area of Rectangle: 96\n",
      "Length: 9\n",
      "Breath: 15\n",
      "Perimeter formula: 2*(Length+Breath)\n",
      "Perimeter of Rectangle: 48\n"
     ]
    }
   ],
   "source": [
    "class rectangle():\n",
    "    def area(a,b):\n",
    "        print('Length:',a)\n",
    "        print('Breath:',b)\n",
    "        print('Area formula: Length*Breath')\n",
    "        print('Area of Rectangle:',a*b)\n",
    "    def perimeter(a,b):\n",
    "        print('Length:',a)\n",
    "        print('Breath:',b)\n",
    "        print('Perimeter formula: 2*(Length+Breath)')\n",
    "        print('Perimeter of Rectangle:',2*(a+b))\n",
    "rectangle.area(12,8)\n",
    "rectangle.perimeter(9,15)"
   ]
  },
  {
   "cell_type": "code",
   "execution_count": 21,
   "metadata": {},
   "outputs": [
    {
     "name": "stdout",
     "output_type": "stream",
     "text": [
      "a= 45\n",
      "b= 67\n",
      "a= 67\n",
      "b= 45\n"
     ]
    }
   ],
   "source": [
    "a=45\n",
    "b=67\n",
    "print('a=',a)\n",
    "print('b=',b)\n",
    "class swap():\n",
    "    def first_swap():\n",
    "        a=b\n",
    "        print('a=',a)\n",
    "    def sec_swap():\n",
    "        b=a\n",
    "        print('b=',b)\n",
    "swap.first_swap()\n",
    "swap.sec_swap()"
   ]
  },
  {
   "cell_type": "code",
   "execution_count": 30,
   "metadata": {},
   "outputs": [
    {
     "name": "stdout",
     "output_type": "stream",
     "text": [
      "Principle Amount:5000\n",
      "Rate of Interest: 5\n",
      "Time preriod:12\n",
      "Simple Interest formula=(P*R*T)/100\n",
      "Simple Interest:  3000.0\n"
     ]
    }
   ],
   "source": [
    "p=int(input('Principle Amount:'))\n",
    "r=5\n",
    "print(\"Rate of Interest:\",r)\n",
    "t=int(input('Time preriod:'))\n",
    "class intrest():\n",
    "      def cal():\n",
    "        print('Simple Interest formula=(P*R*T)/100')\n",
    "        print('Simple Interest: ',(p*r*t)/100)\n",
    "      \n",
    "intrest.cal()"
   ]
  },
  {
   "cell_type": "code",
   "execution_count": 11,
   "metadata": {},
   "outputs": [
    {
     "name": "stdout",
     "output_type": "stream",
     "text": [
      "mark1=78\n",
      "mark2=89\n",
      "mark3=90\n",
      "Total= 257\n",
      "Average= 85\n"
     ]
    }
   ],
   "source": [
    "k1=int(input('mark1='))\n",
    "k2=int(input('mark2='))\n",
    "k3=int(input('mark3='))\n",
    "class mark():\n",
    "    def total():\n",
    "        global t\n",
    "        t=k1+k2+k3\n",
    "        print('Total=',t)\n",
    "    def average():\n",
    "        print('Average=',t//3)\n",
    "        \n",
    "mark.total()\n",
    "mark.average()"
   ]
  },
  {
   "cell_type": "code",
   "execution_count": 14,
   "metadata": {},
   "outputs": [
    {
     "name": "stdout",
     "output_type": "stream",
     "text": [
      "car model names:\n",
      "Maruti Alto\n",
      "Maruti Dzire\n",
      "Hyundai Creta\n",
      "Maruti Swift\n"
     ]
    }
   ],
   "source": [
    "cars=['Maruti Alto','Maruti Dzire','Hyundai Creta','Maruti Swift']\n",
    "print('car model names:')\n",
    "class car():\n",
    "    def car_type():\n",
    "        for x in cars:\n",
    "            print(x)\n",
    "car.car_type()"
   ]
  },
  {
   "cell_type": "code",
   "execution_count": 12,
   "metadata": {},
   "outputs": [
    {
     "name": "stdout",
     "output_type": "stream",
     "text": [
      "Enter any number:37\n",
      "37 is prime number\n"
     ]
    }
   ],
   "source": [
    "global a\n",
    "a=int(input('Enter any number:'))\n",
    "class prime():\n",
    "    def cal():\n",
    "        for i in range(2,a):\n",
    "            r=a%i\n",
    "            if r==0:\n",
    "                print(a,'is not prime number')\n",
    "                break\n",
    "            elif i!=(a-1):\n",
    "                continue\n",
    "            else:\n",
    "                print(a,'is prime number')\n",
    "                \n",
    "prime.cal()\n",
    "            "
   ]
  }
 ],
 "metadata": {
  "kernelspec": {
   "display_name": "Python 3",
   "language": "python",
   "name": "python3"
  },
  "language_info": {
   "codemirror_mode": {
    "name": "ipython",
    "version": 3
   },
   "file_extension": ".py",
   "mimetype": "text/x-python",
   "name": "python",
   "nbconvert_exporter": "python",
   "pygments_lexer": "ipython3",
   "version": "3.7.4"
  }
 },
 "nbformat": 4,
 "nbformat_minor": 2
}
